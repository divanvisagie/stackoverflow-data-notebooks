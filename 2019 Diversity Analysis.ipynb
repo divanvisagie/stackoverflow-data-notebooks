{
    "metadata": {
        "kernelspec": {
            "name": "python3",
            "display_name": "Python 3"
        },
        "language_info": {
            "name": "python",
            "version": "3.8.1",
            "mimetype": "text/x-python",
            "codemirror_mode": {
                "name": "ipython",
                "version": 3
            },
            "pygments_lexer": "ipython3",
            "nbconvert_exporter": "python",
            "file_extension": ".py"
        }
    },
    "nbformat_minor": 2,
    "nbformat": 4,
    "cells": [
        {
            "cell_type": "markdown",
            "source": [
                "# Stackoverflow Survey Data Analysis\n",
                "\n",
                "An analysis of diversity in language communities based on stack overflow survey data.\n",
                "\n",
                "Import required libs"
            ],
            "metadata": {
                "azdata_cell_guid": "c43c2240-fdbb-46e3-901f-0d52cae8d4ae"
            }
        },
        {
            "cell_type": "code",
            "source": [
                "import pandas as pd\n",
                "from matplotlib import pyplot as plt\n",
                "import matplotlib.style as style\n",
                "import matplotlib.cm as mplcm\n",
                "import matplotlib.colors as colors\n",
                "import numpy as np\n",
                "import math\n",
                "\n",
                "\n",
                "style.use('seaborn')\n",
                "# style.available"
            ],
            "metadata": {
                "azdata_cell_guid": "bd2fd4a2-5d53-4fc4-9b62-0f6c523bc744"
            },
            "outputs": [],
            "execution_count": 114
        },
        {
            "cell_type": "markdown",
            "source": [
                "Load Stackoverflow data"
            ],
            "metadata": {
                "azdata_cell_guid": "011e3b3d-5f2d-4c51-8d41-59c025f97e7e"
            }
        },
        {
            "cell_type": "code",
            "source": [
                "data = pd.read_csv('data/2019/survey_results_public.csv')\n"
            ],
            "metadata": {
                "azdata_cell_guid": "f859b085-d8af-466c-a943-14dee0fc5b25",
                "tags": [
                    "outputPrepend",
                    "outputPrepend",
                    "outputPrepend",
                    "outputPrepend",
                    "outputPrepend",
                    "outputPrepend",
                    "outputPrepend",
                    "outputPrepend",
                    "outputPrepend",
                    "outputPrepend",
                    "outputPrepend",
                    "outputPrepend",
                    "outputPrepend",
                    "outputPrepend",
                    "outputPrepend",
                    "outputPrepend",
                    "outputPrepend",
                    "outputPrepend",
                    "outputPrepend",
                    "outputPrepend",
                    "outputPrepend",
                    "outputPrepend",
                    "outputPrepend",
                    "outputPrepend",
                    "outputPrepend",
                    "outputPrepend",
                    "outputPrepend",
                    "outputPrepend",
                    "outputPrepend",
                    "outputPrepend",
                    "outputPrepend",
                    "outputPrepend",
                    "outputPrepend",
                    "outputPrepend",
                    "outputPrepend",
                    "outputPrepend",
                    "outputPrepend",
                    "outputPrepend",
                    "outputPrepend",
                    "outputPrepend",
                    "outputPrepend",
                    "outputPrepend",
                    "outputPrepend",
                    "outputPrepend",
                    "outputPrepend",
                    "outputPrepend",
                    "outputPrepend",
                    "outputPrepend",
                    "outputPrepend",
                    "outputPrepend",
                    "outputPrepend",
                    "outputPrepend",
                    "outputPrepend",
                    "outputPrepend",
                    "outputPrepend",
                    "outputPrepend",
                    "outputPrepend",
                    "outputPrepend",
                    "outputPrepend",
                    "outputPrepend",
                    "outputPrepend",
                    "outputPrepend",
                    "outputPrepend",
                    "outputPrepend",
                    "outputPrepend",
                    "outputPrepend",
                    "outputPrepend",
                    "outputPrepend",
                    "outputPrepend",
                    "outputPrepend",
                    "outputPrepend",
                    "outputPrepend",
                    "outputPrepend",
                    "outputPrepend",
                    "outputPrepend",
                    "outputPrepend",
                    "outputPrepend",
                    "outputPrepend",
                    "outputPrepend",
                    "outputPrepend",
                    "outputPrepend",
                    "outputPrepend",
                    "outputPrepend",
                    "outputPrepend",
                    "outputPrepend",
                    "outputPrepend",
                    "outputPrepend"
                ]
            },
            "outputs": [],
            "execution_count": 115
        },
        {
            "cell_type": "markdown",
            "source": [
                "## Cleaning The Data"
            ],
            "metadata": {
                "azdata_cell_guid": "26233fa7-2a56-4dad-87cb-b2efb085daad"
            }
        },
        {
            "cell_type": "code",
            "source": [
                "idx = 0\n",
                "for row in data['Ethnicity']:\n",
                "    if not isinstance(row, str):\n",
                "        data.loc[idx, 'Ethnicity']='Not Specified'\n",
                "    else:\n",
                "        split_count = len(row.split(';'))\n",
                "        if split_count > 2:\n",
                "            data.loc[idx, 'Ethnicity']='Multiracial'\n",
                "        elif split_count == 2:\n",
                "             data.loc[idx, 'Ethnicity']='Biracial'\n",
                "    idx +=1\n",
                "\n",
                "\n",
                "# data.Ethnicity"
            ],
            "metadata": {
                "tags": [
                    "outputPrepend",
                    "outputPrepend",
                    "outputPrepend",
                    "outputPrepend",
                    "outputPrepend",
                    "outputPrepend",
                    "outputPrepend",
                    "outputPrepend",
                    "outputPrepend",
                    "outputPrepend",
                    "outputPrepend",
                    "outputPrepend",
                    "outputPrepend",
                    "outputPrepend",
                    "outputPrepend",
                    "outputPrepend",
                    "outputPrepend",
                    "outputPrepend",
                    "outputPrepend",
                    "outputPrepend",
                    "outputPrepend",
                    "outputPrepend",
                    "outputPrepend",
                    "outputPrepend",
                    "outputPrepend",
                    "outputPrepend",
                    "outputPrepend",
                    "outputPrepend",
                    "outputPrepend",
                    "outputPrepend",
                    "outputPrepend",
                    "outputPrepend",
                    "outputPrepend",
                    "outputPrepend"
                ],
                "azdata_cell_guid": "16e0f2ff-8d8a-4d0e-b181-7eaa7e9562c6"
            },
            "outputs": [],
            "execution_count": 116
        },
        {
            "cell_type": "code",
            "source": [
                "idx = 0\n",
                "for row in data['Gender']:\n",
                "    if not isinstance(row, str):\n",
                "        data.loc[idx, 'Gender']='Not Specified'\n",
                "    idx += 1\n",
                ""
            ],
            "metadata": {
                "azdata_cell_guid": "6ff38300-a94b-4560-b12f-1038157d8d6c"
            },
            "outputs": [],
            "execution_count": 117
        },
        {
            "cell_type": "markdown",
            "source": [
                "Lets create some functions to help us count usages of a language. We should output how many stack overflow respondants use each language in the list."
            ],
            "metadata": {
                "azdata_cell_guid": "25299553-acef-4d5a-a2d7-92980ce2018a"
            }
        },
        {
            "cell_type": "code",
            "source": [
                "langs = ['Python','JavaScript','Java','C#','Scala','Swift','Objective-C','Go','Rust','C++']\n",
                "language_users = []\n",
                "\n",
                "def count_for_lang(dataFrame, lang):\n",
                "    count = 0\n",
                "    for ww in dataFrame.LanguageWorkedWith:\n",
                "        # print(ww)\n",
                "        if lang in str(ww):\n",
                "            count += 1\n",
                "    return count\n",
                "\n",
                "def handle_pair(pair):\n",
                "    (total, chunk) = pair\n",
                "    return (chunk/total) * 100\n",
                "\n",
                "def get_percs(totals, chunks):\n",
                "    return list(map(handle_pair, zip(totals, chunks)))\n",
                "\n",
                "for lang in langs:\n",
                "   count = count_for_lang(data, lang)\n",
                "   language_users.append(count)\n",
                "\n",
                "language_users"
            ],
            "metadata": {
                "azdata_cell_guid": "ef429d3e-c3ef-4c6b-bac4-8fe5994d9caa",
                "tags": []
            },
            "outputs": [
                {
                    "data": {
                        "text/plain": "[36443, 59219, 70113, 27097, 3309, 5744, 4191, 7201, 2794, 20524]"
                    },
                    "metadata": {},
                    "execution_count": 118,
                    "output_type": "execute_result"
                }
            ],
            "execution_count": 118
        },
        {
            "cell_type": "markdown",
            "source": [
                "## Gender/Sex\n",
                "The survey has a column called gender but it seems to refert to sex. \n",
                "\n",
                "The following is a distribution in percentage in each of the languages."
            ],
            "metadata": {
                "azdata_cell_guid": "9afdc0d0-30ec-42b6-bc9d-0cbc78afbde0"
            }
        },
        {
            "cell_type": "code",
            "source": [
                "gender_groups = []\n",
                "\n",
                "for g in data.Gender.unique():\n",
                "    if isinstance(g, str):\n",
                "        #This data is a bit dirty\n",
                "        gender_groups.append(g)\n",
                "\n",
                "gender_groups"
            ],
            "metadata": {
                "azdata_cell_guid": "1a7224da-05aa-4e22-8b4c-a5809e08ac25"
            },
            "outputs": [
                {
                    "data": {
                        "text/plain": "['Man',\n 'Not Specified',\n 'Woman',\n 'Non-binary, genderqueer, or gender non-conforming',\n 'Woman;Non-binary, genderqueer, or gender non-conforming',\n 'Woman;Man;Non-binary, genderqueer, or gender non-conforming',\n 'Woman;Man',\n 'Man;Non-binary, genderqueer, or gender non-conforming']"
                    },
                    "metadata": {},
                    "execution_count": 119,
                    "output_type": "execute_result"
                }
            ],
            "execution_count": 119
        },
        {
            "cell_type": "code",
            "source": [
                "data_by_group = []\n",
                "\n",
                "for group_name in gender_groups:\n",
                "    data_by_group.append(data[data.Gender == group_name])\n"
            ],
            "metadata": {
                "azdata_cell_guid": "c2935d07-f11d-474e-8ae5-2add9e72bb46"
            },
            "outputs": [],
            "execution_count": 120
        },
        {
            "cell_type": "code",
            "source": [
                "count_for_group = []\n",
                "\n",
                "for g in data_by_group:\n",
                "    group_langs = []\n",
                "    for lang in langs:\n",
                "        group_langs.append(count_for_lang(g, lang))\n",
                "    count_for_group.append(group_langs)\n",
                "\n",
                "count_for_group"
            ],
            "metadata": {
                "azdata_cell_guid": "88c7f7a3-4512-4e97-9699-0f7eb9e5c37e"
            },
            "outputs": [
                {
                    "data": {
                        "text/plain": "[[32308, 52465, 62017, 24442, 2959, 5106, 3701, 6492, 2482, 18210],\n [1276, 1911, 2347, 868, 98, 220, 159, 273, 130, 867],\n [2314, 4088, 4875, 1495, 193, 342, 271, 307, 106, 1152],\n [292, 395, 455, 136, 27, 36, 28, 62, 39, 129],\n [88, 120, 131, 37, 7, 5, 5, 15, 12, 39],\n [32, 42, 50, 26, 9, 12, 9, 14, 8, 24],\n [42, 76, 94, 35, 4, 11, 11, 11, 3, 46],\n [91, 122, 144, 58, 12, 12, 7, 27, 14, 57]]"
                    },
                    "metadata": {},
                    "execution_count": 121,
                    "output_type": "execute_result"
                }
            ],
            "execution_count": 121
        },
        {
            "cell_type": "code",
            "source": [
                "percentage_for_group = []\n",
                "\n",
                "\n",
                "\n",
                "\n",
                "for c in count_for_group:\n",
                "    p = get_percs(language_users, c)\n",
                "    percentage_for_group.append(p)\n",
                "\n",
                "percentage_for_group\n",
                "[language_users, \n",
                "count_for_group[0],\n",
                "count_for_group[1],\n",
                "count_for_group[2]\n",
                "]"
            ],
            "metadata": {
                "azdata_cell_guid": "638ab830-bdda-4eeb-a43e-04241449ea1d"
            },
            "outputs": [
                {
                    "data": {
                        "text/plain": "[[36443, 59219, 70113, 27097, 3309, 5744, 4191, 7201, 2794, 20524],\n [32308, 52465, 62017, 24442, 2959, 5106, 3701, 6492, 2482, 18210],\n [1276, 1911, 2347, 868, 98, 220, 159, 273, 130, 867],\n [2314, 4088, 4875, 1495, 193, 342, 271, 307, 106, 1152]]"
                    },
                    "metadata": {},
                    "execution_count": 122,
                    "output_type": "execute_result"
                }
            ],
            "execution_count": 122
        },
        {
            "cell_type": "code",
            "source": [
                "# Draw bar\n",
                "NUM_COLORS = 12\n",
                "\n",
                "cm = plt.get_cmap('tab20c')\n",
                "cNorm  = colors.Normalize(vmin=0, vmax=NUM_COLORS-1)\n",
                "scalarMap = mplcm.ScalarMappable(norm=cNorm, cmap=cm)\n",
                "\n",
                "# Plot\n",
                "fig = plt.figure()\n",
                "ax = fig.add_axes([0,0,1,1])\n",
                "\n",
                "width = 0.75\n",
                "\n",
                "totals = []\n",
                "for idx, group in enumerate(percentage_for_group):\n",
                "    if idx == 0:\n",
                "        ax.bar(langs, group, width, color=scalarMap.to_rgba(idx))\n",
                "        totals = group\n",
                "    else:\n",
                "        ax.bar(langs, group, width, bottom=totals, color=scalarMap.to_rgba(idx))\n",
                "        for i in range(len(totals)):\n",
                "            totals[i] = totals[i] + group[i]\n",
                "\n",
                "\n",
                "ax.legend(labels=gender_groups, bbox_to_anchor=(1.04, 1))\n",
                "plt.show()"
            ],
            "metadata": {
                "azdata_cell_guid": "68906f6c-e0ed-48ca-9b64-e93c36367755"
            },
            "outputs": [
                {
                    "data": {
                        "text/plain": "<Figure size 576x396 with 1 Axes>",
                        "image/png": "[encoded data removed]"
                    },
                    "metadata": {},
                    "output_type": "display_data"
                }
            ],
            "execution_count": 123
        },
        {
            "cell_type": "markdown",
            "source": [
                "## Ethnic Groups"
            ],
            "metadata": {
                "azdata_cell_guid": "966d9cc7-db04-4a26-b6a5-29a3842bf236"
            }
        },
        {
            "cell_type": "code",
            "source": [
                "ethnic_groups = []\n",
                "\n",
                "for g in data.Ethnicity.unique():\n",
                "    if isinstance(g, str):\n",
                "        if not ';' in g and not ',' in g: #This data is a bit dirty\n",
                "            ethnic_groups.append(g)\n",
                "\n",
                "ethnic_groups"
            ],
            "metadata": {
                "azdata_cell_guid": "41944b64-f3eb-4cce-931d-ceab73fe3b04"
            },
            "outputs": [
                {
                    "data": {
                        "text/plain": "['Not Specified',\n 'White or of European descent',\n 'Biracial',\n 'East Asian',\n 'Multiracial',\n 'Black or of African descent',\n 'Hispanic or Latino/Latina',\n 'Middle Eastern',\n 'South Asian']"
                    },
                    "metadata": {},
                    "execution_count": 124,
                    "output_type": "execute_result"
                }
            ],
            "execution_count": 124
        },
        {
            "cell_type": "code",
            "source": [
                "data_by_group = []\n",
                "\n",
                "for group_name in ethnic_groups:\n",
                "    data_by_group.append(data[data.Ethnicity == group_name])\n",
                ""
            ],
            "metadata": {
                "azdata_cell_guid": "7b77458f-4a83-4c07-9e9a-af8ca8f0dee4"
            },
            "outputs": [],
            "execution_count": 125
        },
        {
            "cell_type": "code",
            "source": [
                "count_for_group = []\n",
                "\n",
                "for g in data_by_group:\n",
                "    group_langs = []\n",
                "    for lang in langs:\n",
                "        group_langs.append(count_for_lang(g, lang))\n",
                "    count_for_group.append(group_langs)\n",
                "\n",
                "count_for_group"
            ],
            "metadata": {
                "azdata_cell_guid": "452f5306-d174-49d5-8e28-68d9d7d6ce64"
            },
            "outputs": [
                {
                    "data": {
                        "text/plain": "[[4334, 7535, 9222, 3197, 361, 789, 637, 746, 279, 3159],\n [21540, 34431, 40108, 16946, 2007, 3225, 2286, 4640, 1984, 11273],\n [1615, 2535, 2989, 1101, 163, 231, 179, 336, 114, 786],\n [1535, 2234, 2718, 876, 140, 266, 200, 293, 82, 965],\n [882, 1267, 1451, 543, 87, 143, 99, 186, 99, 468],\n [779, 1519, 1774, 501, 50, 109, 56, 119, 32, 363],\n [1347, 2484, 2885, 1102, 131, 250, 166, 237, 66, 599],\n [982, 1654, 2052, 889, 70, 187, 122, 160, 34, 642],\n [3385, 5479, 6821, 1900, 294, 536, 439, 477, 99, 2242]]"
                    },
                    "metadata": {},
                    "execution_count": 126,
                    "output_type": "execute_result"
                }
            ],
            "execution_count": 126
        },
        {
            "cell_type": "code",
            "source": [
                "percentage_for_group = []\n",
                "\n",
                "for c in count_for_group:\n",
                "    p = get_percs(language_users, c)\n",
                "    percentage_for_group.append(p)\n",
                "\n",
                ""
            ],
            "metadata": {
                "azdata_cell_guid": "3b88fcc5-87af-49a6-9268-4becf9de47c5"
            },
            "outputs": [],
            "execution_count": 127
        },
        {
            "cell_type": "code",
            "source": [
                "# Draw bar\n",
                "NUM_COLORS = 16\n",
                "\n",
                "cm = plt.get_cmap('tab20c')\n",
                "cNorm  = colors.Normalize(vmin=0, vmax=NUM_COLORS-1)\n",
                "scalarMap = mplcm.ScalarMappable(norm=cNorm, cmap=cm)\n",
                "\n",
                "\n",
                "fig = plt.figure()\n",
                "ax = fig.add_axes([0,0,1,1])\n",
                "\n",
                "width = 0.75\n",
                "\n",
                "totals = []\n",
                "for idx, group in enumerate(percentage_for_group):\n",
                "    if idx == 0:\n",
                "        ax.bar(langs, group, width, color=scalarMap.to_rgba(idx))\n",
                "        totals = group\n",
                "    else:\n",
                "        ax.bar(langs, group, width, bottom=totals, color=scalarMap.to_rgba(idx))\n",
                "        for i in range(len(totals)):\n",
                "            totals[i] = totals[i] + group[i]\n",
                "\n",
                "\n",
                "ax.legend(labels=ethnic_groups, bbox_to_anchor=(1.04, 1))\n",
                "plt.show()"
            ],
            "metadata": {
                "azdata_cell_guid": "413da5da-2e48-46ff-ab6b-42ec7a9361f7"
            },
            "outputs": [
                {
                    "data": {
                        "text/plain": "<Figure size 576x396 with 1 Axes>",
                        "image/png": "[encoded data removed]"
                    },
                    "metadata": {},
                    "output_type": "display_data"
                }
            ],
            "execution_count": 128
        }
    ]
}