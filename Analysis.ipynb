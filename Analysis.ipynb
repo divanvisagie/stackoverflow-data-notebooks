{
    "metadata": {
        "kernelspec": {
            "name": "python3",
            "display_name": "Python 3"
        },
        "language_info": {
            "name": "python",
            "version": "3.8.1",
            "mimetype": "text/x-python",
            "codemirror_mode": {
                "name": "ipython",
                "version": 3
            },
            "pygments_lexer": "ipython3",
            "nbconvert_exporter": "python",
            "file_extension": ".py"
        }
    },
    "nbformat_minor": 2,
    "nbformat": 4,
    "cells": [
        {
            "cell_type": "markdown",
            "source": [
                "# Stackoverflow Survey Data Analysis\n",
                "\n",
                "Import required libs"
            ],
            "metadata": {
                "azdata_cell_guid": "c43c2240-fdbb-46e3-901f-0d52cae8d4ae"
            }
        },
        {
            "cell_type": "code",
            "source": [
                "import pandas as pd\n",
                "from matplotlib import pyplot as plt\n",
                "import matplotlib.style as style\n",
                "import numpy as np\n",
                "\n",
                "\n",
                "style.use('seaborn')"
            ],
            "metadata": {
                "azdata_cell_guid": "bd2fd4a2-5d53-4fc4-9b62-0f6c523bc744"
            },
            "outputs": [],
            "execution_count": 75
        },
        {
            "cell_type": "markdown",
            "source": [
                "Load Stackoverflow data"
            ],
            "metadata": {
                "azdata_cell_guid": "011e3b3d-5f2d-4c51-8d41-59c025f97e7e"
            }
        },
        {
            "cell_type": "code",
            "source": [
                "data = pd.read_csv('data/survey_results_public.csv')\n",
                "\n",
                "# titanic = sns.load_dataset(\"titanic\")\n",
                "\n",
                "# titanic\n",
                ""
            ],
            "metadata": {
                "azdata_cell_guid": "f859b085-d8af-466c-a943-14dee0fc5b25",
                "tags": []
            },
            "outputs": [],
            "execution_count": 71
        },
        {
            "cell_type": "markdown",
            "source": [
                "Lets create some functions to help us count usages of a language. We should output how many stack overflow respondants use each language in the list."
            ],
            "metadata": {
                "azdata_cell_guid": "25299553-acef-4d5a-a2d7-92980ce2018a"
            }
        },
        {
            "cell_type": "code",
            "source": [
                "langs = ['Python','JavaScript','Java','C#','Scala','Swift','Objective-C','Go','Rust','C++']\n",
                "language_users = []\n",
                "\n",
                "def count_for_lang(dataFrame, lang):\n",
                "    count = 0\n",
                "    for ww in dataFrame.LanguageWorkedWith:\n",
                "        # print(ww)\n",
                "        if lang in str(ww):\n",
                "            count += 1\n",
                "    return count\n",
                "\n",
                "def handle_pair(pair):\n",
                "    (total, chunk) = pair\n",
                "    return (chunk/total) * 100\n",
                "\n",
                "def get_percs(totals, chunks):\n",
                "    return list(map(handle_pair, zip(totals, chunks)))\n",
                "\n",
                "for lang in langs:\n",
                "   count = count_for_lang(data, lang)\n",
                "   language_users.append(count)\n",
                "\n",
                "language_users"
            ],
            "metadata": {
                "azdata_cell_guid": "ef429d3e-c3ef-4c6b-bac4-8fe5994d9caa",
                "tags": [
                    "hide_input"
                ]
            },
            "outputs": [
                {
                    "data": {
                        "text/plain": "[36443, 59219, 70113, 27097, 3309, 5744, 4191, 7201, 2794, 20524]"
                    },
                    "metadata": {},
                    "execution_count": 72,
                    "output_type": "execute_result"
                }
            ],
            "execution_count": 72
        },
        {
            "cell_type": "markdown",
            "source": [
                "Now we want to see the gender distributeion in percentage in each of the languages."
            ],
            "metadata": {
                "azdata_cell_guid": "9afdc0d0-30ec-42b6-bc9d-0cbc78afbde0"
            }
        },
        {
            "cell_type": "code",
            "source": [
                "# Gather and plot Gender Data\n",
                "\n",
                "dt_women  = data[data.Gender == 'Woman']\n",
                "dt_men  = data[data.Gender == 'Man']\n",
                "\n",
                "\n",
                "men = []\n",
                "women = []\n",
                "all_genders = []\n",
                "\n",
                "\n",
                "for lang in langs:\n",
                "   wc = count_for_lang(dt_women, lang) \n",
                "   women.append(wc)\n",
                "   mc = count_for_lang(dt_men, lang)\n",
                "   men.append(mc)\n",
                "  \n",
                "\n",
                "men_perc = get_percs(language_users,men)\n",
                "women_perc = get_percs(language_users,women)\n",
                "\n",
                "#draw bar\n",
                "fig = plt.figure()\n",
                "ax = fig.add_axes([0,0,1,1])\n",
                "\n",
                "# ax.bar(langs, women)\n",
                "# ax.bar(langs, men)\n",
                "width = 0.75\n",
                "\n",
                "# print(langs)\n",
                "# print(women)\n",
                "# print(men)\n",
                "\n",
                "ax.bar(langs, men_perc, width)\n",
                "ax.bar(langs, women_perc, width,bottom=men_perc)\n",
                "ax.legend(labels=['Men', 'Women'])\n",
                "plt.show()\n",
                "\n",
                ""
            ],
            "metadata": {
                "azdata_cell_guid": "b1880bd7-489f-43f6-ba63-b99fd8c3ab1f",
                "tags": [
                    "hide_input"
                ]
            },
            "outputs": [
                {
                    "data": {
                        "text/plain": "<Figure size 576x396 with 1 Axes>",
                        "image/png": "[encoded data removed]"
                    },
                    "metadata": {},
                    "output_type": "display_data"
                }
            ],
            "execution_count": 73
        },
        {
            "cell_type": "markdown",
            "source": [
                "Now lets look at ethnic diversity across these language communities.\n"
            ],
            "metadata": {
                "azdata_cell_guid": "966d9cc7-db04-4a26-b6a5-29a3842bf236"
            }
        },
        {
            "cell_type": "code",
            "source": [
                "# Gather and plot entnicity data\n",
                "\n",
                "european = data[data.Ethnicity == 'White or of European descent']\n",
                "african = data[data.Ethnicity == 'Black or of African descent'] \n",
                "east_asian = data[data.Ethnicity == 'East Asian']\n",
                "south_asian = data[data.Ethnicity == 'South Asian']\n",
                "biracial = data[data.Ethnicity == 'Biracial']\n",
                "middle_eastern = data[data.Ethnicity == 'Middle Eastern'] \n",
                "hispanic = data[data.Ethnicity == 'Hispanic or Latino/Latina']\n",
                "\n",
                "european_c = []\n",
                "african_c = []\n",
                "east_asian_c = []\n",
                "south_asian_c = []\n",
                "biracial_c = []\n",
                "middle_eastern_c = []\n",
                "hispanic_c = []\n",
                "\n",
                "for lang in langs:\n",
                "   european_c.append(count_for_lang(european, lang))\n",
                "   african_c.append(count_for_lang(african, lang))\n",
                "   east_asian_c.append(count_for_lang(east_asian, lang))\n",
                "   south_asian_c.append(count_for_lang(south_asian, lang))\n",
                "   biracial_c.append(count_for_lang(biracial, lang))\n",
                "   middle_eastern_c.append(count_for_lang(middle_eastern, lang))\n",
                "   hispanic_c.append(count_for_lang(hispanic, lang))\n",
                "\n",
                "\n",
                "\n",
                "european_p = get_percs(language_users, european_c)\n",
                "african_p = get_percs(language_users, african_c)\n",
                "east_asian_p = get_percs(language_users, east_asian_c)\n",
                "south_asian_p = get_percs(language_users, south_asian_c)\n",
                "biracial_p = get_percs(language_users, biracial_c)\n",
                "middle_eastern_p = get_percs(language_users, middle_eastern_c)\n",
                "hispanic_p = get_percs(language_users, hispanic_c)\n",
                "\n",
                "#draw bar\n",
                "fig = plt.figure()\n",
                "ax = fig.add_axes([0,0,1,1])\n",
                "\n",
                "width = 0.75\n",
                "\n",
                "ax.bar(langs, european_p, width) #euro\n",
                "ax.bar(langs, african_p, width,bottom=european_p) #african\n",
                "ax.bar(langs, east_asian_p, width,\n",
                "    bottom=[european_p[j] + african_p[j] for j in range(len(european_p)) ]) # east asian\n",
                "ax.bar(langs, south_asian_p, width,\n",
                "    bottom=[european_p[j] + african_p[j] + east_asian_p[j] for j in range(len(european_p)) ]) #south asian\n",
                "ax.bar(langs, biracial_p, width,\n",
                "    bottom=[european_p[j] + african_p[j] + east_asian_p[j] + south_asian_p[j] for j in range(len(european_p)) ]) #biracial\n",
                "ax.bar(langs, middle_eastern_p, width,\n",
                "    bottom=[european_p[j] + african_p[j] + east_asian_p[j] + south_asian_p[j] + biracial_p[j] for j in range(len(european_p)) ]) #middle eastern\n",
                "ax.bar(langs, hispanic_p, width,\n",
                "    bottom=[european_p[j] + african_p[j] + east_asian_p[j] + south_asian_p[j] + biracial_p[j] + middle_eastern_p[j] for j in range(len(european_p)) ]) #hispanic\n",
                "ax.legend(labels=['European', 'African','East Asian','South Asian','Biracial','Middle Eastern','Hispanic'])\n",
                "plt.show()\n",
                "\n",
                ""
            ],
            "metadata": {
                "azdata_cell_guid": "f6f55d02-ab27-438a-860f-ba20b7c8fd65",
                "tags": [
                    "hide_input"
                ]
            },
            "outputs": [
                {
                    "data": {
                        "text/plain": "<Figure size 576x396 with 1 Axes>",
                        "image/png": "[encoded data removed]"
                    },
                    "metadata": {},
                    "output_type": "display_data"
                }
            ],
            "execution_count": 74
        }
    ]
}