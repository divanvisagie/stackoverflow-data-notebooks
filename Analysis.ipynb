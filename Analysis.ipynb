{
    "metadata": {
        "kernelspec": {
            "name": "python3",
            "display_name": "Python 3"
        },
        "language_info": {
            "name": "python",
            "version": "3.8.1",
            "mimetype": "text/x-python",
            "codemirror_mode": {
                "name": "ipython",
                "version": 3
            },
            "pygments_lexer": "ipython3",
            "nbconvert_exporter": "python",
            "file_extension": ".py"
        }
    },
    "nbformat_minor": 2,
    "nbformat": 4,
    "cells": [
        {
            "cell_type": "markdown",
            "source": [
                "Import required libs"
            ],
            "metadata": {
                "azdata_cell_guid": "c43c2240-fdbb-46e3-901f-0d52cae8d4ae"
            }
        },
        {
            "cell_type": "code",
            "source": [
                "import pandas as pd\n",
                "from matplotlib import pyplot as plt\n",
                "import numpy as np"
            ],
            "metadata": {
                "azdata_cell_guid": "bd2fd4a2-5d53-4fc4-9b62-0f6c523bc744"
            },
            "outputs": [],
            "execution_count": 67
        },
        {
            "cell_type": "markdown",
            "source": [
                "Load Stackoverflow data"
            ],
            "metadata": {
                "azdata_cell_guid": "011e3b3d-5f2d-4c51-8d41-59c025f97e7e"
            }
        },
        {
            "cell_type": "code",
            "source": [
                "survey_results = pd.read_csv('data/survey_results_public.csv')"
            ],
            "metadata": {
                "azdata_cell_guid": "f859b085-d8af-466c-a943-14dee0fc5b25"
            },
            "outputs": [],
            "execution_count": 12
        },
        {
            "cell_type": "markdown",
            "source": [
                "List the columns\n",
                ""
            ],
            "metadata": {
                "azdata_cell_guid": "4aea71ac-25c5-4eb4-9e4a-8112aec9177d"
            }
        },
        {
            "cell_type": "markdown",
            "source": [
                ""
            ],
            "metadata": {
                "azdata_cell_guid": "25299553-acef-4d5a-a2d7-92980ce2018a"
            }
        },
        {
            "cell_type": "code",
            "source": [
                "data = pd.read_csv('data/survey_results_public.csv')\n",
                "\n",
                "for i in range(0, len(data.columns)):\n",
                "    print(i, data.columns[i])\n",
                ""
            ],
            "metadata": {
                "azdata_cell_guid": "34b9a05f-69a1-4923-80c7-67731f039d51",
                "tags": []
            },
            "outputs": [
                {
                    "name": "stdout",
                    "text": "0 Respondent\n1 MainBranch\n2 Hobbyist\n3 OpenSourcer\n4 OpenSource\n5 Employment\n6 Country\n7 Student\n8 EdLevel\n9 UndergradMajor\n10 EduOther\n11 OrgSize\n12 DevType\n13 YearsCode\n14 Age1stCode\n15 YearsCodePro\n16 CareerSat\n17 JobSat\n18 MgrIdiot\n19 MgrMoney\n20 MgrWant\n21 JobSeek\n22 LastHireDate\n23 LastInt\n24 FizzBuzz\n25 JobFactors\n26 ResumeUpdate\n27 CurrencySymbol\n28 CurrencyDesc\n29 CompTotal\n30 CompFreq\n31 ConvertedComp\n32 WorkWeekHrs\n33 WorkPlan\n34 WorkChallenge\n35 WorkRemote\n36 WorkLoc\n37 ImpSyn\n38 CodeRev\n39 CodeRevHrs\n40 UnitTests\n41 PurchaseHow\n42 PurchaseWhat\n43 LanguageWorkedWith\n44 LanguageDesireNextYear\n45 DatabaseWorkedWith\n46 DatabaseDesireNextYear\n47 PlatformWorkedWith\n48 PlatformDesireNextYear\n49 WebFrameWorkedWith\n50 WebFrameDesireNextYear\n51 MiscTechWorkedWith\n52 MiscTechDesireNextYear\n53 DevEnviron\n54 OpSys\n55 Containers\n56 BlockchainOrg\n57 BlockchainIs\n58 BetterLife\n59 ITperson\n60 OffOn\n61 SocialMedia\n62 Extraversion\n63 ScreenName\n64 SOVisit1st\n65 SOVisitFreq\n66 SOVisitTo\n67 SOFindAnswer\n68 SOTimeSaved\n69 SOHowMuchTime\n70 SOAccount\n71 SOPartFreq\n72 SOJobs\n73 EntTeams\n74 SOComm\n75 WelcomeChange\n76 SONewContent\n77 Age\n78 Gender\n79 Trans\n80 Sexuality\n81 Ethnicity\n82 Dependents\n83 SurveyLength\n84 SurveyEase\n",
                    "output_type": "stream"
                }
            ],
            "execution_count": 35
        },
        {
            "cell_type": "markdown",
            "source": [
                "Next lets see gender representation\n",
                ""
            ],
            "metadata": {
                "azdata_cell_guid": "adcc8015-b6bb-43f8-a0fe-cf8b075c79cc"
            }
        },
        {
            "cell_type": "code",
            "source": [
                "langs = ['Python','JavaScript','Java','C#','Scala','Swift','Objective-C','Go','Rust','C++']\n",
                "language_users = []\n",
                "\n",
                "def count_for_lang(dataFrame, lang):\n",
                "    count = 0\n",
                "    for ww in dataFrame.LanguageWorkedWith:\n",
                "        # print(ww)\n",
                "        if lang in str(ww):\n",
                "            count += 1\n",
                "    return count\n",
                "\n",
                "def handle_pair(pair):\n",
                "    (total, chunk) = pair\n",
                "    return (chunk/total) * 100\n",
                "\n",
                "def get_percs(totals, chunks):\n",
                "    return list(map(handle_pair, zip(totals, chunks)))\n",
                "\n",
                "for lang in langs:\n",
                "   count = count_for_lang(data, lang)\n",
                "   language_users.append(count)\n",
                "\n",
                "language_users"
            ],
            "metadata": {
                "azdata_cell_guid": "ef429d3e-c3ef-4c6b-bac4-8fe5994d9caa"
            },
            "outputs": [
                {
                    "data": {
                        "text/plain": "[36443, 59219, 70113, 27097, 3309, 5744, 4191, 7201, 2794, 20524]"
                    },
                    "metadata": {},
                    "execution_count": 129,
                    "output_type": "execute_result"
                }
            ],
            "execution_count": 129
        },
        {
            "cell_type": "markdown",
            "source": [
                "Lets count some gender representation"
            ],
            "metadata": {
                "azdata_cell_guid": "9afdc0d0-30ec-42b6-bc9d-0cbc78afbde0"
            }
        },
        {
            "cell_type": "code",
            "source": [
                "dt_women  = data[data.Gender == 'Woman']\n",
                "dt_men  = data[data.Gender == 'Man']\n",
                "\n",
                "\n",
                "men = []\n",
                "women = []\n",
                "all_genders = []\n",
                "\n",
                "\n",
                "for lang in langs:\n",
                "   wc = count_for_lang(dt_women, lang) \n",
                "   women.append(wc)\n",
                "   mc = count_for_lang(dt_men, lang)\n",
                "   men.append(mc)\n",
                "  \n",
                "\n",
                "men_perc = get_percs(language_users,men)\n",
                "women_perc = get_percs(language_users,women)\n",
                "\n",
                "#draw bar\n",
                "fig = plt.figure()\n",
                "ax = fig.add_axes([0,0,1,1])\n",
                "\n",
                "# ax.bar(langs, women)\n",
                "# ax.bar(langs, men)\n",
                "width = 0.75\n",
                "\n",
                "# print(langs)\n",
                "# print(women)\n",
                "# print(men)\n",
                "\n",
                "ax.bar(langs, men_perc, width, color='b')\n",
                "ax.bar(langs, women_perc, width,bottom=men_perc, color='r')\n",
                "ax.legend(labels=['Men', 'Women'])\n",
                "plt.show()\n",
                ""
            ],
            "metadata": {
                "azdata_cell_guid": "b1880bd7-489f-43f6-ba63-b99fd8c3ab1f"
            },
            "outputs": [
                {
                    "data": {
                        "text/plain": "<Figure size 432x288 with 1 Axes>",
                        "image/png": "[encoded data removed]"
                    },
                    "metadata": {
                        "needs_background": "light"
                    },
                    "output_type": "display_data"
                }
            ],
            "execution_count": 124
        },
        {
            "cell_type": "markdown",
            "source": [
                "Now lets look at ethnicity\n",
                ""
            ],
            "metadata": {
                "azdata_cell_guid": "966d9cc7-db04-4a26-b6a5-29a3842bf236"
            }
        },
        {
            "cell_type": "code",
            "source": [
                "european = data[data.Ethnicity == 'White or of European descent']\n",
                "african = data[data.Ethnicity == 'Black or of African descent'] \n",
                "east_asian = data[data.Ethnicity == 'East Asian']\n",
                "south_asian = data[data.Ethnicity == 'South Asian']\n",
                "biracial = data[data.Ethnicity == 'Biracial']\n",
                "middle_eastern = data[data.Ethnicity == 'Middle Eastern'] \n",
                "hispanic = data[data.Ethnicity == 'Hispanic or Latino/Latina']\n",
                "\n",
                "european_c = []\n",
                "african_c = []\n",
                "east_asian_c = []\n",
                "south_asian_c = []\n",
                "biracial_c = []\n",
                "middle_eastern_c = []\n",
                "hispanic_c = []\n",
                "\n",
                "for lang in langs:\n",
                "   european_c.append(count_for_lang(european, lang))\n",
                "   african_c.append(count_for_lang(african, lang))\n",
                "   east_asian_c.append(count_for_lang(east_asian, lang))\n",
                "   south_asian_c.append(count_for_lang(south_asian, lang))\n",
                "   biracial_c.append(count_for_lang(biracial, lang))\n",
                "   middle_eastern_c.append(count_for_lang(middle_eastern, lang))\n",
                "   hispanic_c.append(count_for_lang(hispanic, lang))\n",
                "\n",
                "\n",
                "\n",
                "european_p = get_percs(language_users, european_c)\n",
                "african_p = get_percs(language_users, african_c)\n",
                "east_asian_p = get_percs(language_users, east_asian_c)\n",
                "south_asian_p = get_percs(language_users, south_asian_c)\n",
                "biracial_p = get_percs(language_users, biracial_c)\n",
                "middle_eastern_p = get_percs(language_users, middle_eastern_c)\n",
                "hispanic_p = get_percs(language_users, hispanic_c)\n",
                "\n",
                "#draw bar\n",
                "fig = plt.figure()\n",
                "ax = fig.add_axes([0,0,1,1])\n",
                "\n",
                "width = 0.75\n",
                "\n",
                "ax.bar(langs, european_p, width, color='purple') #euro\n",
                "ax.bar(langs, african_p, width,bottom=european_p, color='r') #african\n",
                "ax.bar(langs, east_asian_p, width,\n",
                "    bottom=[european_p[j] + african_p[j] for j in range(len(european_p)) ], \n",
                "    color='orange') # east asian\n",
                "ax.bar(langs, south_asian_p, width,\n",
                "    bottom=[european_p[j] + african_p[j] + east_asian_p[j] for j in range(len(european_p)) ], \n",
                "    color='y') #south asian\n",
                "ax.bar(langs, biracial_p, width,\n",
                "    bottom=[european_p[j] + african_p[j] + east_asian_p[j] + south_asian_p[j] for j in range(len(european_p)) ], \n",
                "    color='b') #biracial\n",
                "ax.bar(langs, middle_eastern_p, width,\n",
                "    bottom=[european_p[j] + african_p[j] + east_asian_p[j] + south_asian_p[j] + biracial_p[j] for j in range(len(european_p)) ], \n",
                "    color='pink') #middle eastern\n",
                "ax.bar(langs, hispanic_p, width,\n",
                "    bottom=[european_p[j] + african_p[j] + east_asian_p[j] + south_asian_p[j] + biracial_p[j] + middle_eastern_p[j] for j in range(len(european_p)) ], \n",
                "    color='g') #hispanic\n",
                "ax.legend(labels=['European', 'African','East Asian','South Asian','Biracial','Middle Eastern','Hispanic'])\n",
                "plt.show()\n",
                "\n",
                ""
            ],
            "metadata": {
                "azdata_cell_guid": "f6f55d02-ab27-438a-860f-ba20b7c8fd65"
            },
            "outputs": [
                {
                    "data": {
                        "text/plain": "<Figure size 432x288 with 1 Axes>",
                        "image/png": "[encoded data removed]"
                    },
                    "metadata": {
                        "needs_background": "light"
                    },
                    "output_type": "display_data"
                }
            ],
            "execution_count": 152
        }
    ]
}