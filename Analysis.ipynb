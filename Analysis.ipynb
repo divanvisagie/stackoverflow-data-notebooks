{
    "metadata": {
        "kernelspec": {
            "name": "python3",
            "display_name": "Python 3"
        },
        "language_info": {
            "name": "python",
            "version": "3.8.1",
            "mimetype": "text/x-python",
            "codemirror_mode": {
                "name": "ipython",
                "version": 3
            },
            "pygments_lexer": "ipython3",
            "nbconvert_exporter": "python",
            "file_extension": ".py"
        }
    },
    "nbformat_minor": 2,
    "nbformat": 4,
    "cells": [
        {
            "cell_type": "markdown",
            "source": [
                "# Stackoverflow Survey Data Analysis\n",
                "\n",
                "Import required libs"
            ],
            "metadata": {
                "azdata_cell_guid": "c43c2240-fdbb-46e3-901f-0d52cae8d4ae"
            }
        },
        {
            "cell_type": "code",
            "source": [
                "import pandas as pd\n",
                "from matplotlib import pyplot as plt\n",
                "import matplotlib.style as style\n",
                "import numpy as np\n",
                "import math\n",
                "\n",
                "\n",
                "style.use('seaborn')"
            ],
            "metadata": {
                "azdata_cell_guid": "bd2fd4a2-5d53-4fc4-9b62-0f6c523bc744"
            },
            "outputs": [],
            "execution_count": 95
        },
        {
            "cell_type": "markdown",
            "source": [
                "Load Stackoverflow data"
            ],
            "metadata": {
                "azdata_cell_guid": "011e3b3d-5f2d-4c51-8d41-59c025f97e7e"
            }
        },
        {
            "cell_type": "code",
            "source": [
                "data = pd.read_csv('data/survey_results_public.csv')\n",
                "\n",
                "# titanic = sns.load_dataset(\"titanic\")\n",
                "\n",
                "# titanic\n",
                ""
            ],
            "metadata": {
                "azdata_cell_guid": "f859b085-d8af-466c-a943-14dee0fc5b25",
                "tags": []
            },
            "outputs": [],
            "execution_count": 71
        },
        {
            "cell_type": "markdown",
            "source": [
                "Lets create some functions to help us count usages of a language. We should output how many stack overflow respondants use each language in the list."
            ],
            "metadata": {
                "azdata_cell_guid": "25299553-acef-4d5a-a2d7-92980ce2018a"
            }
        },
        {
            "cell_type": "code",
            "source": [
                "langs = ['Python','JavaScript','Java','C#','Scala','Swift','Objective-C','Go','Rust','C++']\n",
                "language_users = []\n",
                "\n",
                "def count_for_lang(dataFrame, lang):\n",
                "    count = 0\n",
                "    for ww in dataFrame.LanguageWorkedWith:\n",
                "        # print(ww)\n",
                "        if lang in str(ww):\n",
                "            count += 1\n",
                "    return count\n",
                "\n",
                "def handle_pair(pair):\n",
                "    (total, chunk) = pair\n",
                "    return (chunk/total) * 100\n",
                "\n",
                "def get_percs(totals, chunks):\n",
                "    return list(map(handle_pair, zip(totals, chunks)))\n",
                "\n",
                "for lang in langs:\n",
                "   count = count_for_lang(data, lang)\n",
                "   language_users.append(count)\n",
                "\n",
                "language_users"
            ],
            "metadata": {
                "azdata_cell_guid": "ef429d3e-c3ef-4c6b-bac4-8fe5994d9caa",
                "tags": []
            },
            "outputs": [
                {
                    "data": {
                        "text/plain": "[36443, 59219, 70113, 27097, 3309, 5744, 4191, 7201, 2794, 20524]"
                    },
                    "metadata": {},
                    "execution_count": 72,
                    "output_type": "execute_result"
                }
            ],
            "execution_count": 72
        },
        {
            "cell_type": "markdown",
            "source": [
                "Now we want to see the gender distributeion in percentage in each of the languages."
            ],
            "metadata": {
                "azdata_cell_guid": "9afdc0d0-30ec-42b6-bc9d-0cbc78afbde0"
            }
        },
        {
            "cell_type": "code",
            "source": [
                "# Gather and plot Gender Data\n",
                "\n",
                "dt_women  = data[data.Gender == 'Woman']\n",
                "dt_men  = data[data.Gender == 'Man']\n",
                "\n",
                "\n",
                "men = []\n",
                "women = []\n",
                "all_genders = []\n",
                "\n",
                "\n",
                "for lang in langs:\n",
                "   wc = count_for_lang(dt_women, lang) \n",
                "   women.append(wc)\n",
                "   mc = count_for_lang(dt_men, lang)\n",
                "   men.append(mc)\n",
                "  \n",
                "\n",
                "men_perc = get_percs(language_users,men)\n",
                "women_perc = get_percs(language_users,women)\n",
                "\n",
                "#draw bar\n",
                "fig = plt.figure()\n",
                "ax = fig.add_axes([0,0,1,1])\n",
                "\n",
                "# ax.bar(langs, women)\n",
                "# ax.bar(langs, men)\n",
                "width = 0.75\n",
                "\n",
                "# print(langs)\n",
                "# print(women)\n",
                "# print(men)\n",
                "\n",
                "ax.bar(langs, men_perc, width)\n",
                "ax.bar(langs, women_perc, width,bottom=men_perc)\n",
                "ax.legend(labels=['Men', 'Women'])\n",
                "plt.show()\n",
                "\n",
                ""
            ],
            "metadata": {
                "azdata_cell_guid": "b1880bd7-489f-43f6-ba63-b99fd8c3ab1f",
                "tags": []
            },
            "outputs": [
                {
                    "data": {
                        "text/plain": "<Figure size 576x396 with 1 Axes>",
                        "image/png": "[encoded data removed]"
                    },
                    "metadata": {},
                    "output_type": "display_data"
                }
            ],
            "execution_count": 73
        },
        {
            "cell_type": "markdown",
            "source": [
                "Now lets look at ethnic diversity across these language communities.\n"
            ],
            "metadata": {
                "azdata_cell_guid": "966d9cc7-db04-4a26-b6a5-29a3842bf236"
            }
        },
        {
            "cell_type": "code",
            "source": [
                "ethnic_groups = []\n",
                "\n",
                "for g in data.Ethnicity.unique():\n",
                "    if isinstance(g, str):\n",
                "        if not ';' in g and not ',' in g: #This data is a bit dirty\n",
                "            ethnic_groups.append(g)\n",
                "\n",
                "ethnic_groups"
            ],
            "metadata": {
                "azdata_cell_guid": "41944b64-f3eb-4cce-931d-ceab73fe3b04"
            },
            "outputs": [
                {
                    "data": {
                        "text/plain": "['White or of European descent',\n 'East Asian',\n 'Black or of African descent',\n 'Hispanic or Latino/Latina',\n 'Middle Eastern',\n 'South Asian',\n 'Multiracial',\n 'Biracial']"
                    },
                    "metadata": {},
                    "execution_count": 107,
                    "output_type": "execute_result"
                }
            ],
            "execution_count": 107
        },
        {
            "cell_type": "code",
            "source": [
                "data_by_group = []\n",
                "\n",
                "for group_name in ethnic_groups:\n",
                "    data_by_group.append(data[data.Ethnicity == group_name])\n",
                ""
            ],
            "metadata": {
                "azdata_cell_guid": "7b77458f-4a83-4c07-9e9a-af8ca8f0dee4"
            },
            "outputs": [],
            "execution_count": 112
        },
        {
            "cell_type": "code",
            "source": [
                "count_for_group = []\n",
                "\n",
                "for g in data_by_group:\n",
                "    group_langs = []\n",
                "    for lang in langs:\n",
                "        group_langs.append(count_for_lang(g, lang))\n",
                "    count_for_group.append(group_langs)\n",
                "\n",
                "count_for_group"
            ],
            "metadata": {
                "azdata_cell_guid": "452f5306-d174-49d5-8e28-68d9d7d6ce64"
            },
            "outputs": [
                {
                    "data": {
                        "text/plain": "[[21540, 34431, 40108, 16946, 2007, 3225, 2286, 4640, 1984, 11273],\n [1535, 2234, 2718, 876, 140, 266, 200, 293, 82, 965],\n [779, 1519, 1774, 501, 50, 109, 56, 119, 32, 363],\n [1347, 2484, 2885, 1102, 131, 250, 166, 237, 66, 599],\n [982, 1654, 2052, 889, 70, 187, 122, 160, 34, 642],\n [3385, 5479, 6821, 1900, 294, 536, 439, 477, 99, 2242],\n [279, 449, 515, 194, 23, 50, 33, 49, 23, 152],\n [144, 217, 255, 71, 14, 13, 16, 30, 14, 53]]"
                    },
                    "metadata": {},
                    "execution_count": 113,
                    "output_type": "execute_result"
                }
            ],
            "execution_count": 113
        },
        {
            "cell_type": "code",
            "source": [
                "percentage_for_group = []\n",
                "\n",
                "for c in count_for_group:\n",
                "    p = get_percs(language_users, c)\n",
                "    percentage_for_group.append(p)\n",
                "\n",
                ""
            ],
            "metadata": {
                "azdata_cell_guid": "3b88fcc5-87af-49a6-9268-4becf9de47c5"
            },
            "outputs": [],
            "execution_count": 132
        },
        {
            "cell_type": "code",
            "source": [
                "#draw bar\n",
                "fig = plt.figure()\n",
                "ax = fig.add_axes([0,0,1,1])\n",
                "\n",
                "width = 0.75\n",
                "\n",
                "totals = []\n",
                "for idx, group in enumerate(percentage_for_group):\n",
                "    if idx == 0:\n",
                "        ax.bar(langs, group, width)\n",
                "        totals = group\n",
                "    else:\n",
                "        ax.bar(langs, group, width, bottom=totals)\n",
                "        for i in range(len(totals)):\n",
                "            totals[i] = totals[i] + group[i]\n",
                "\n",
                "\n",
                "ax.legend(labels=ethnic_groups)\n",
                "plt.show()"
            ],
            "metadata": {
                "azdata_cell_guid": "413da5da-2e48-46ff-ab6b-42ec7a9361f7"
            },
            "outputs": [
                {
                    "data": {
                        "text/plain": "<Figure size 576x396 with 1 Axes>",
                        "image/png": "[encoded data removed]"
                    },
                    "metadata": {},
                    "output_type": "display_data"
                }
            ],
            "execution_count": 140
        },
        {
            "cell_type": "code",
            "source": [
                "# Gather and plot entnicity data\n",
                "\n",
                "european = data[data.Ethnicity == 'White or of European descent']\n",
                "african = data[data.Ethnicity == 'Black or of African descent'] \n",
                "east_asian = data[data.Ethnicity == 'East Asian']\n",
                "south_asian = data[data.Ethnicity == 'South Asian']\n",
                "biracial = data[data.Ethnicity == 'Biracial']\n",
                "middle_eastern = data[data.Ethnicity == 'Middle Eastern'] \n",
                "hispanic = data[data.Ethnicity == 'Hispanic or Latino/Latina']\n",
                "\n",
                "\n",
                "european_c = []\n",
                "african_c = []\n",
                "east_asian_c = []\n",
                "south_asian_c = []\n",
                "biracial_c = []\n",
                "middle_eastern_c = []\n",
                "hispanic_c = []\n",
                "\n",
                "for lang in langs:\n",
                "   european_c.append(count_for_lang(european, lang))\n",
                "   african_c.append(count_for_lang(african, lang))\n",
                "   east_asian_c.append(count_for_lang(east_asian, lang))\n",
                "   south_asian_c.append(count_for_lang(south_asian, lang))\n",
                "   biracial_c.append(count_for_lang(biracial, lang))\n",
                "   middle_eastern_c.append(count_for_lang(middle_eastern, lang))\n",
                "   hispanic_c.append(count_for_lang(hispanic, lang))\n",
                "\n",
                "\n",
                "\n",
                "\n",
                "\n",
                "european_p = get_percs(language_users, european_c)\n",
                "african_p = get_percs(language_users, african_c)\n",
                "east_asian_p = get_percs(language_users, east_asian_c)\n",
                "south_asian_p = get_percs(language_users, south_asian_c)\n",
                "biracial_p = get_percs(language_users, biracial_c)\n",
                "middle_eastern_p = get_percs(language_users, middle_eastern_c)\n",
                "hispanic_p = get_percs(language_users, hispanic_c)\n",
                "\n",
                "#draw bar\n",
                "fig = plt.figure()\n",
                "ax = fig.add_axes([0,0,1,1])\n",
                "\n",
                "width = 0.75\n",
                "\n",
                "ax.bar(langs, european_p, width) #euro\n",
                "ax.bar(langs, african_p, width,bottom=european_p) #african\n",
                "ax.bar(langs, east_asian_p, width,\n",
                "    bottom=[european_p[j] + african_p[j] for j in range(len(european_p)) ]) # east asian\n",
                "ax.bar(langs, south_asian_p, width,\n",
                "    bottom=[european_p[j] + african_p[j] + east_asian_p[j] for j in range(len(european_p)) ]) #south asian\n",
                "ax.bar(langs, biracial_p, width,\n",
                "    bottom=[european_p[j] + african_p[j] + east_asian_p[j] + south_asian_p[j] for j in range(len(european_p)) ]) #biracial\n",
                "ax.bar(langs, middle_eastern_p, width,\n",
                "    bottom=[european_p[j] + african_p[j] + east_asian_p[j] + south_asian_p[j] + biracial_p[j] for j in range(len(european_p)) ]) #middle eastern\n",
                "ax.bar(langs, hispanic_p, width,\n",
                "    bottom=[european_p[j] + african_p[j] + east_asian_p[j] + south_asian_p[j] + biracial_p[j] + middle_eastern_p[j] for j in range(len(european_p)) ]) #hispanic\n",
                "ax.legend(labels=['European', 'African','East Asian','South Asian','Biracial','Middle Eastern','Hispanic'])\n",
                "plt.show()\n",
                "\n",
                "[european_p[j] + african_p[j] for j in range(len(european_p)) ]\n",
                ""
            ],
            "metadata": {
                "azdata_cell_guid": "f6f55d02-ab27-438a-860f-ba20b7c8fd65",
                "tags": []
            },
            "outputs": [
                {
                    "data": {
                        "text/plain": "<Figure size 576x396 with 1 Axes>",
                        "image/png": "[encoded data removed]"
                    },
                    "metadata": {},
                    "output_type": "display_data"
                },
                {
                    "data": {
                        "text/plain": "[61.24358587383036,\n 60.706867728262885,\n 59.73499921555204,\n 64.3872015352253,\n 62.16379570867331,\n 58.043175487465184,\n 55.881651157241706,\n 66.08804332731565,\n 72.15461703650679,\n 56.694601442213994]"
                    },
                    "metadata": {},
                    "execution_count": 130,
                    "output_type": "execute_result"
                }
            ],
            "execution_count": 130
        }
    ]
}